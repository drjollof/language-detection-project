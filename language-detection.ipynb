{
 "cells": [
  {
   "cell_type": "code",
   "execution_count": null,
   "metadata": {},
   "outputs": [],
   "source": [
    "# !pip install pandas\n",
    "# !pip install numpy \n",
    "# !pip install scikit-learn\n"
   ]
  },
  {
   "cell_type": "code",
   "execution_count": 1,
   "metadata": {},
   "outputs": [],
   "source": [
    "import pandas as pd\n",
    "import numpy as np\n"
   ]
  },
  {
   "cell_type": "code",
   "execution_count": 2,
   "metadata": {},
   "outputs": [],
   "source": [
    "#import dataset\n",
    "data = pd.read_csv('language_dataset.csv')"
   ]
  },
  {
   "cell_type": "markdown",
   "metadata": {},
   "source": [
    "MINOR EDA   "
   ]
  },
  {
   "cell_type": "code",
   "execution_count": 3,
   "metadata": {},
   "outputs": [
    {
     "data": {
      "text/plain": [
       "Unnamed: 0    0\n",
       "Text          0\n",
       "language      0\n",
       "dtype: int64"
      ]
     },
     "execution_count": 3,
     "metadata": {},
     "output_type": "execute_result"
    }
   ],
   "source": [
    "#check for the shape of dataset and missing values\n",
    "data.shape\n",
    "data.isnull().sum()"
   ]
  },
  {
   "cell_type": "code",
   "execution_count": 4,
   "metadata": {},
   "outputs": [
    {
     "data": {
      "text/plain": [
       "Index(['Text', 'language'], dtype='object')"
      ]
     },
     "execution_count": 4,
     "metadata": {},
     "output_type": "execute_result"
    }
   ],
   "source": [
    "#drop unnecessary column\n",
    "data.drop(columns='Unnamed: 0', inplace=True)\n",
    "data.columns"
   ]
  },
  {
   "cell_type": "code",
   "execution_count": null,
   "metadata": {},
   "outputs": [],
   "source": [
    "#check for number of observations per language\n",
    "data['language'].value_counts()"
   ]
  },
  {
   "cell_type": "code",
   "execution_count": 6,
   "metadata": {},
   "outputs": [],
   "source": [
    "from sklearn.feature_extraction.text import CountVectorizer\n",
    "from sklearn.model_selection import train_test_split\n"
   ]
  },
  {
   "cell_type": "markdown",
   "metadata": {},
   "source": [
    "FEATURE ENGINEERING"
   ]
  },
  {
   "cell_type": "code",
   "execution_count": 7,
   "metadata": {},
   "outputs": [],
   "source": [
    "#extract feature to token\n",
    "vectorizer = CountVectorizer()\n"
   ]
  },
  {
   "cell_type": "code",
   "execution_count": 8,
   "metadata": {},
   "outputs": [],
   "source": [
    "#separate X and Y\n",
    "x_data = data[['Text']]\n",
    "y_data = data[['language']]"
   ]
  },
  {
   "cell_type": "code",
   "execution_count": 9,
   "metadata": {},
   "outputs": [
    {
     "data": {
      "text/plain": [
       "(22000, 277720)"
      ]
     },
     "execution_count": 9,
     "metadata": {},
     "output_type": "execute_result"
    }
   ],
   "source": [
    "#extract X features and check new shape\n",
    "x_data_vectorized = vectorizer.fit_transform(x_data['Text'])\n",
    "x_data_vectorized.shape"
   ]
  },
  {
   "cell_type": "code",
   "execution_count": 10,
   "metadata": {},
   "outputs": [],
   "source": [
    "#split X and Y data with balanced number of observations in target variable\n",
    "x_train, x_test, y_train, y_test = train_test_split(x_data_vectorized, y_data, test_size= 0.3, random_state=34, stratify = y_data)"
   ]
  },
  {
   "cell_type": "markdown",
   "metadata": {},
   "source": [
    "MULTINOMIAL LOGISTIC REGRESSION MODEL"
   ]
  },
  {
   "cell_type": "code",
   "execution_count": 62,
   "metadata": {},
   "outputs": [
    {
     "name": "stderr",
     "output_type": "stream",
     "text": [
      "c:\\Users\\LENOVO\\anaconda3\\Lib\\site-packages\\sklearn\\linear_model\\_logistic.py:1247: FutureWarning: 'multi_class' was deprecated in version 1.5 and will be removed in 1.7. From then on, it will always use 'multinomial'. Leave it to its default value to avoid this warning.\n",
      "  warnings.warn(\n"
     ]
    },
    {
     "data": {
      "text/plain": [
       "0.9466666666666667"
      ]
     },
     "execution_count": 62,
     "metadata": {},
     "output_type": "execute_result"
    }
   ],
   "source": [
    "\n",
    "#fit log model and check for accuracy\n",
    "from sklearn.linear_model import LogisticRegression\n",
    "multi_log = LogisticRegression(multi_class= 'multinomial', random_state=37)\n",
    "multi_model = multi_log.fit(x_train, y_train['language'])\n",
    "multi_model.score(x_test, y_test)\n",
    "\n",
    "#94.6%"
   ]
  },
  {
   "cell_type": "code",
   "execution_count": 65,
   "metadata": {},
   "outputs": [
    {
     "name": "stdout",
     "output_type": "stream",
     "text": [
      "              precision    recall  f1-score   support\n",
      "\n",
      "      Arabic       1.00      0.97      0.99       300\n",
      "     Chinese       0.80      0.51      0.63       300\n",
      "       Dutch       1.00      0.98      0.99       300\n",
      "     English       0.89      0.98      0.93       300\n",
      "    Estonian       0.99      0.93      0.96       300\n",
      "      French       1.00      1.00      1.00       300\n",
      "       Hindi       1.00      0.97      0.98       300\n",
      "  Indonesian       0.99      0.98      0.99       300\n",
      "    Japanese       0.53      0.93      0.67       300\n",
      "      Korean       1.00      0.93      0.97       300\n",
      "       Latin       0.96      0.96      0.96       300\n",
      "     Persian       1.00      0.97      0.98       300\n",
      "   Portugese       0.98      0.98      0.98       300\n",
      "      Pushto       1.00      0.96      0.98       300\n",
      "    Romanian       1.00      0.98      0.99       300\n",
      "     Russian       0.99      0.93      0.96       300\n",
      "     Spanish       0.99      0.98      0.98       300\n",
      "     Swedish       1.00      0.99      0.99       300\n",
      "       Tamil       1.00      1.00      1.00       300\n",
      "        Thai       1.00      0.97      0.98       300\n",
      "     Turkish       1.00      0.96      0.98       300\n",
      "        Urdu       1.00      0.97      0.98       300\n",
      "\n",
      "    accuracy                           0.95      6600\n",
      "   macro avg       0.96      0.95      0.95      6600\n",
      "weighted avg       0.96      0.95      0.95      6600\n",
      "\n"
     ]
    }
   ],
   "source": [
    "#predict and check full metrics report\n",
    "from sklearn.metrics import classification_report\n",
    "multi_log_y_predicted = multi_model.predict(x_test)\n",
    "multi_log_metrics = classification_report(y_test, multi_log_y_predicted)\n",
    "print(multi_log_metrics)"
   ]
  },
  {
   "cell_type": "markdown",
   "metadata": {},
   "source": [
    "RANDOM FOREST MODEL"
   ]
  },
  {
   "cell_type": "code",
   "execution_count": 22,
   "metadata": {},
   "outputs": [
    {
     "data": {
      "text/plain": [
       "0.9216666666666666"
      ]
     },
     "execution_count": 22,
     "metadata": {},
     "output_type": "execute_result"
    }
   ],
   "source": [
    "#fit model and check accuracy\n",
    "from sklearn.ensemble import RandomForestClassifier\n",
    "RF_object = RandomForestClassifier(random_state=70)\n",
    "RF_model = RF_object.fit(x_train, y_train['language'])\n",
    "RF_model.score(x_test, y_test)\n",
    "\n",
    "#92.1%\n"
   ]
  },
  {
   "cell_type": "code",
   "execution_count": null,
   "metadata": {},
   "outputs": [
    {
     "name": "stdout",
     "output_type": "stream",
     "text": [
      "              precision    recall  f1-score   support\n",
      "\n",
      "      Arabic       1.00      0.99      0.99       300\n",
      "     Chinese       0.88      0.33      0.48       300\n",
      "       Dutch       0.42      0.99      0.59       300\n",
      "     English       0.82      0.99      0.89       300\n",
      "    Estonian       0.99      0.96      0.97       300\n",
      "      French       0.98      1.00      0.99       300\n",
      "       Hindi       1.00      0.97      0.98       300\n",
      "  Indonesian       0.99      0.98      0.99       300\n",
      "    Japanese       0.96      0.37      0.53       300\n",
      "      Korean       1.00      0.95      0.98       300\n",
      "       Latin       0.99      0.95      0.97       300\n",
      "     Persian       1.00      0.99      0.99       300\n",
      "   Portugese       1.00      0.99      0.99       300\n",
      "      Pushto       1.00      0.96      0.98       300\n",
      "    Romanian       1.00      0.99      0.99       300\n",
      "     Russian       0.99      0.95      0.97       300\n",
      "     Spanish       0.98      0.99      0.99       300\n",
      "     Swedish       0.99      0.99      0.99       300\n",
      "       Tamil       1.00      1.00      1.00       300\n",
      "        Thai       1.00      0.99      1.00       300\n",
      "     Turkish       1.00      0.98      0.99       300\n",
      "        Urdu       1.00      0.97      0.98       300\n",
      "\n",
      "    accuracy                           0.92      6600\n",
      "   macro avg       0.95      0.92      0.92      6600\n",
      "weighted avg       0.95      0.92      0.92      6600\n",
      "\n"
     ]
    }
   ],
   "source": [
    "#predict and check full report\n",
    "RF_y_predicted = RF_model.predict(x_test)\n",
    "RF_metrics = classification_report(y_test, RF_y_predicted)\n",
    "print(RF_metrics)"
   ]
  },
  {
   "cell_type": "markdown",
   "metadata": {},
   "source": [
    "SUPPORT VECTOR CLASSIFIER MODEL"
   ]
  },
  {
   "cell_type": "code",
   "execution_count": 64,
   "metadata": {},
   "outputs": [
    {
     "data": {
      "text/plain": [
       "0.894090909090909"
      ]
     },
     "execution_count": 64,
     "metadata": {},
     "output_type": "execute_result"
    }
   ],
   "source": [
    "#fit model and check accuracy\n",
    "from sklearn.svm import SVC\n",
    "SVC_object = SVC(random_state=12)\n",
    "SVC_model = SVC_object.fit(x_train, y_train['language'])\n",
    "SVC_model.score(x_test, y_test)\n",
    "\n",
    "#89.4%"
   ]
  },
  {
   "cell_type": "code",
   "execution_count": 66,
   "metadata": {},
   "outputs": [
    {
     "name": "stdout",
     "output_type": "stream",
     "text": [
      "              precision    recall  f1-score   support\n",
      "\n",
      "      Arabic       0.94      1.00      0.97       282\n",
      "     Chinese       0.35      0.47      0.40       223\n",
      "       Dutch       0.94      1.00      0.97       283\n",
      "     English       0.95      0.82      0.88       345\n",
      "    Estonian       0.89      0.99      0.94       269\n",
      "      French       0.96      0.99      0.97       289\n",
      "       Hindi       0.93      1.00      0.96       278\n",
      "  Indonesian       0.95      1.00      0.97       285\n",
      "    Japanese       0.90      0.45      0.60       594\n",
      "      Korean       0.91      0.92      0.91       296\n",
      "       Latin       0.88      0.96      0.92       277\n",
      "     Persian       0.91      1.00      0.95       274\n",
      "   Portugese       0.93      0.98      0.96       285\n",
      "      Pushto       0.95      0.66      0.78       428\n",
      "    Romanian       0.95      1.00      0.97       285\n",
      "     Russian       0.80      0.99      0.89       243\n",
      "     Spanish       0.94      0.99      0.96       287\n",
      "     Swedish       0.97      1.00      0.98       290\n",
      "       Tamil       0.96      1.00      0.98       287\n",
      "        Thai       0.90      1.00      0.95       271\n",
      "     Turkish       0.87      1.00      0.93       262\n",
      "        Urdu       0.89      1.00      0.94       267\n",
      "\n",
      "    accuracy                           0.89      6600\n",
      "   macro avg       0.89      0.92      0.90      6600\n",
      "weighted avg       0.90      0.89      0.89      6600\n",
      "\n"
     ]
    }
   ],
   "source": [
    "#predict and check full report\n",
    "SVC_y_predicted = SVC_model.predict(x_test)\n",
    "SVC_metrics = classification_report(SVC_y_predicted, y_test)\n",
    "print(SVC_metrics)"
   ]
  },
  {
   "cell_type": "markdown",
   "metadata": {},
   "source": [
    "MULTINOMIAL NAIVE BAYES MODEL"
   ]
  },
  {
   "cell_type": "code",
   "execution_count": null,
   "metadata": {},
   "outputs": [
    {
     "data": {
      "text/plain": [
       "0.9554545454545454"
      ]
     },
     "execution_count": 28,
     "metadata": {},
     "output_type": "execute_result"
    }
   ],
   "source": [
    "#fit model and check accuracy\n",
    "from sklearn.naive_bayes import MultinomialNB\n",
    "MNB_object = MultinomialNB()\n",
    "MNB_model = MNB_object.fit(x_train, y_train['language'])\n",
    "MNB_model.score(x_test, y_test)\n",
    "\n",
    "#95.5%"
   ]
  },
  {
   "cell_type": "code",
   "execution_count": null,
   "metadata": {},
   "outputs": [
    {
     "name": "stdout",
     "output_type": "stream",
     "text": [
      "              precision    recall  f1-score   support\n",
      "\n",
      "      Arabic       1.00      1.00      1.00       300\n",
      "     Chinese       0.53      0.96      0.69       167\n",
      "       Dutch       0.99      0.99      0.99       301\n",
      "     English       1.00      0.68      0.81       444\n",
      "    Estonian       0.97      0.99      0.98       293\n",
      "      French       1.00      0.96      0.98       312\n",
      "       Hindi       0.97      1.00      0.98       290\n",
      "  Indonesian       0.99      0.99      0.99       300\n",
      "    Japanese       0.86      0.72      0.78       360\n",
      "      Korean       0.98      1.00      0.99       294\n",
      "       Latin       0.91      1.00      0.95       273\n",
      "     Persian       1.00      1.00      1.00       299\n",
      "   Portugese       0.95      1.00      0.97       286\n",
      "      Pushto       0.97      1.00      0.98       291\n",
      "    Romanian       0.98      1.00      0.99       296\n",
      "     Russian       0.99      0.99      0.99       299\n",
      "     Spanish       0.99      0.98      0.99       302\n",
      "     Swedish       1.00      0.98      0.99       304\n",
      "       Tamil       1.00      1.00      1.00       300\n",
      "        Thai       0.99      1.00      1.00       298\n",
      "     Turkish       0.98      0.99      0.99       297\n",
      "        Urdu       0.98      1.00      0.99       294\n",
      "\n",
      "    accuracy                           0.96      6600\n",
      "   macro avg       0.96      0.96      0.96      6600\n",
      "weighted avg       0.96      0.96      0.96      6600\n",
      "\n"
     ]
    }
   ],
   "source": [
    "#predict and check full report\n",
    "MNB_y_predicted = MNB_model.predict(x_test)\n",
    "MNB_metrics = classification_report(MNB_y_predicted, y_test)\n",
    "print(MNB_metrics)"
   ]
  },
  {
   "cell_type": "markdown",
   "metadata": {},
   "source": [
    "TESTING MODELS ON A NEW TEXT"
   ]
  },
  {
   "cell_type": "code",
   "execution_count": null,
   "metadata": {},
   "outputs": [],
   "source": [
    "\n",
    "text = '나는 센 강을 따라 걸으며 파리의 아름다움을 감상한다. 도시의 불빛이 밤에 별처럼 반짝인다'\n",
    "new_text = vectorizer.transform([text])"
   ]
  },
  {
   "cell_type": "code",
   "execution_count": 60,
   "metadata": {},
   "outputs": [
    {
     "data": {
      "text/plain": [
       "array(['Korean'], dtype='<U10')"
      ]
     },
     "execution_count": 60,
     "metadata": {},
     "output_type": "execute_result"
    }
   ],
   "source": [
    "#multinomial naive bayes\n",
    "MNB_model.predict(new_text)"
   ]
  },
  {
   "cell_type": "code",
   "execution_count": null,
   "metadata": {},
   "outputs": [
    {
     "data": {
      "text/plain": [
       "array(['Korean'], dtype=object)"
      ]
     },
     "execution_count": 61,
     "metadata": {},
     "output_type": "execute_result"
    }
   ],
   "source": [
    "#random forest\n",
    "RF_model.predict(new_text)"
   ]
  },
  {
   "cell_type": "code",
   "execution_count": 67,
   "metadata": {},
   "outputs": [
    {
     "data": {
      "text/plain": [
       "array(['Japanese'], dtype=object)"
      ]
     },
     "execution_count": 67,
     "metadata": {},
     "output_type": "execute_result"
    }
   ],
   "source": [
    "#multinomial logistic regression\n",
    "multi_log.predict(new_text)"
   ]
  },
  {
   "cell_type": "code",
   "execution_count": 68,
   "metadata": {},
   "outputs": [
    {
     "data": {
      "text/plain": [
       "array(['Japanese'], dtype=object)"
      ]
     },
     "execution_count": 68,
     "metadata": {},
     "output_type": "execute_result"
    }
   ],
   "source": [
    "#support vector classifier\n",
    "SVC_model.predict(new_text)"
   ]
  }
 ],
 "metadata": {
  "kernelspec": {
   "display_name": "base",
   "language": "python",
   "name": "python3"
  },
  "language_info": {
   "codemirror_mode": {
    "name": "ipython",
    "version": 3
   },
   "file_extension": ".py",
   "mimetype": "text/x-python",
   "name": "python",
   "nbconvert_exporter": "python",
   "pygments_lexer": "ipython3",
   "version": "3.12.3"
  }
 },
 "nbformat": 4,
 "nbformat_minor": 2
}
